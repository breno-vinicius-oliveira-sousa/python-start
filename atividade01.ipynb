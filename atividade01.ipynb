{
 "cells": [
  {
   "cell_type": "code",
   "execution_count": 1,
   "metadata": {},
   "outputs": [
    {
     "name": "stdout",
     "output_type": "stream",
     "text": [
      "20\n",
      "True\n"
     ]
    }
   ],
   "source": [
    "x = (2 + 3 * 5 + 30 // 10)\n",
    "print(2 + 3 * 5 + 30 // 10)\n",
    "if x == 20 :\n",
    "    print(True)\n",
    "else:\n",
    "    print(False)\n"
   ]
  }
 ],
 "metadata": {
  "kernelspec": {
   "display_name": "Python 3.10.7 64-bit",
   "language": "python",
   "name": "python3"
  },
  "language_info": {
   "codemirror_mode": {
    "name": "ipython",
    "version": 3
   },
   "file_extension": ".py",
   "mimetype": "text/x-python",
   "name": "python",
   "nbconvert_exporter": "python",
   "pygments_lexer": "ipython3",
   "version": "3.10.7"
  },
  "orig_nbformat": 4,
  "vscode": {
   "interpreter": {
    "hash": "cef2c85d0814bbc9f9da4bff975dcfad0f7a91c09af594fa3cb277f5e362e17c"
   }
  }
 },
 "nbformat": 4,
 "nbformat_minor": 2
}
