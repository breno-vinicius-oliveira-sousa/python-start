{
 "cells": [
  {
   "cell_type": "markdown",
   "metadata": {},
   "source": [
    "Atividade 02 - A"
   ]
  },
  {
   "cell_type": "code",
   "execution_count": null,
   "metadata": {},
   "outputs": [],
   "source": [
    "x = 10 + 20 * 30\n",
    "y = 4 **2  / 30\n",
    "z = (94 + 2) * 6 - 1\n",
    "print( 'X É IGUAL A', x )\n",
    "print('Y É IGUAL A', y)\n",
    "print('Z É IGUAL A', z)"
   ]
  },
  {
   "cell_type": "markdown",
   "metadata": {},
   "source": [
    "Atividade 02 - B"
   ]
  },
  {
   "cell_type": "code",
   "execution_count": null,
   "metadata": {},
   "outputs": [],
   "source": [
    "print(10 % 3 * 10 ** 2 + 1 - 10 * 4 / 2)"
   ]
  },
  {
   "cell_type": "markdown",
   "metadata": {},
   "source": [
    "Atividade 02 - C "
   ]
  },
  {
   "cell_type": "code",
   "execution_count": null,
   "metadata": {},
   "outputs": [],
   "source": [
    "a = 3\n",
    "b = 5\n",
    "print(2 * a * 3 *b)"
   ]
  },
  {
   "cell_type": "markdown",
   "metadata": {},
   "source": [
    "Atividade 02 - D"
   ]
  },
  {
   "cell_type": "code",
   "execution_count": null,
   "metadata": {},
   "outputs": [],
   "source": [
    "x = 6\n",
    "y = 0\n",
    "z = 123\n",
    "print( x + y + z )"
   ]
  },
  {
   "cell_type": "markdown",
   "metadata": {},
   "source": [
    "Atividade 02 - E"
   ]
  },
  {
   "cell_type": "code",
   "execution_count": 3,
   "metadata": {},
   "outputs": [
    {
     "name": "stdout",
     "output_type": "stream",
     "text": [
      "Nome:  breno 7\n",
      "Curso:  Ti \n",
      "Idade:  21\n"
     ]
    }
   ],
   "source": [
    "nome = input(\"Insira seu nome \")\n",
    "curso = input(\"Insira seu curso \")\n",
    "idade = int(input(\"Insira seu idade \"))\n",
    "print( 'Nome: ', nome )\n",
    "print( 'Curso: ', curso )\n",
    "print( 'Idade: ', idade )"
   ]
  }
 ],
 "metadata": {
  "kernelspec": {
   "display_name": "Python 3.10.7 64-bit",
   "language": "python",
   "name": "python3"
  },
  "language_info": {
   "codemirror_mode": {
    "name": "ipython",
    "version": 3
   },
   "file_extension": ".py",
   "mimetype": "text/x-python",
   "name": "python",
   "nbconvert_exporter": "python",
   "pygments_lexer": "ipython3",
   "version": "3.10.7"
  },
  "orig_nbformat": 4,
  "vscode": {
   "interpreter": {
    "hash": "cef2c85d0814bbc9f9da4bff975dcfad0f7a91c09af594fa3cb277f5e362e17c"
   }
  }
 },
 "nbformat": 4,
 "nbformat_minor": 2
}
